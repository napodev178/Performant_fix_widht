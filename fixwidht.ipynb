{
 "cells": [
  {
   "cell_type": "code",
   "execution_count": 44,
   "metadata": {},
   "outputs": [
    {
     "name": "stdout",
     "output_type": "stream",
     "text": [
      "Kyle Lopez        7557 Moreno Extensions, Sarahview, IN 61285               001-612-876-3921x5691 M06/27/1943Rodriguez Ltd                 8812-ASSN 238-11-0766Dr. Robin Chapman     17193 Tonya Inlet Apt. 192, East Danielland, MH 36448      6564768782904616105203BF0100Y\n",
      "File created successfully!\n"
     ]
    },
    {
     "ename": "",
     "evalue": "",
     "output_type": "error",
     "traceback": [
      "\u001b[1;31mThe Kernel crashed while executing code in the the current cell or a previous cell. Please review the code in the cell(s) to identify a possible cause of the failure. Click <a href='https://aka.ms/vscodeJupyterKernelCrash'>here</a> for more info. View Jupyter <a href='command:jupyter.viewOutput'>log</a> for further details."
     ]
    }
   ],
   "source": [
    "# Re-importing necessary libraries and re-defining the functions as the code execution state was reset earlier\n",
    "import csv\n",
    "import random\n",
    "from faker import Faker\n",
    "\n",
    "fake = Faker()\n",
    "\n",
    "# Function to generate dummy data for patients and billing providers\n",
    "def generate_dummy_data(num_records, data_type):\n",
    "    data = []\n",
    "    for _ in range(num_records):\n",
    "        if data_type == 'patient':\n",
    "            # Generate patient data\n",
    "            patient_name = fake.name()\n",
    "            address = fake.address().replace('\\n', ', ')\n",
    "            telephone_number = fake.phone_number()\n",
    "            sex = random.choice(['M', 'F'])\n",
    "            dob = fake.date_of_birth(minimum_age=18, maximum_age=90).strftime('%m/%d/%Y')\n",
    "            employer = fake.company()\n",
    "            group_number = f\"{random.randint(1000, 9999)}-{random.choice(['A', 'B', 'C'])}\"\n",
    "            payer_id_number = f\"SSN {fake.ssn()}\"\n",
    "            data.append([patient_name, address, telephone_number, sex, dob, employer, group_number, payer_id_number])\n",
    "        elif data_type == 'provider':\n",
    "            # Generate billing provider data\n",
    "            billing_provider = f\"Dr. {fake.first_name()} {fake.last_name()}\"\n",
    "            address = fake.address().replace('\\n', ', ')\n",
    "            npi = ''.join([str(random.randint(0, 9)) for _ in range(10)])  # 10 digit NPI\n",
    "            tin = ''.join([str(random.randint(0, 9)) for _ in range(9)])  # 9 digit TIN\n",
    "            taxonomy_code = \"203BF0100Y\"  # Fixed taxonomy code for simplicity\n",
    "            data.append([billing_provider, address, npi, tin, taxonomy_code])\n",
    "    return data\n",
    "\n",
    "# generate 100 patient records and print to csv}\n",
    "patient_data = generate_dummy_data(100, 'patient')\n",
    "patient_headers = ['patient_name', 'address', 'telephone_number', 'sex', 'dob', 'employer', 'group_number', 'payer_id_number']\n",
    "\n",
    "\n",
    "# Function to save data to CSV\n",
    "def save_to_csv_with_custom_headers(file_name, data, headers):\n",
    "    with open(file_name, mode='w', newline=',') as file:\n",
    "        writer = csv.writer(file)\n",
    "        writer.writerow(headers)\n",
    "        writer.writerows(data)\n",
    "\n",
    "# Function to read CSV\n",
    "def read_csv(file_path):\n",
    "    with open(file_path, newline='') as csvfile:\n",
    "        reader = csv.reader(csvfile)\n",
    "        data = [row for row in reader][1:]  # Skip headers\n",
    "    return data\n",
    "\n",
    "# Function to determine field widths\n",
    "def determine_field_widths(csv_data):\n",
    "    widths = [max(len(str(item)) for item in column) for column in zip(*csv_data)]\n",
    "    return widths\n",
    "\n",
    "# Function to create fixed-width records\n",
    "def create_fixed_width_records(csv_data, field_widths):\n",
    "    fixed_width_records = []\n",
    "    for row in csv_data:\n",
    "        record = ''.join(str(item).ljust(width) for item, width in zip(row, field_widths))\n",
    "        fixed_width_records.append(record)\n",
    "    return fixed_width_records\n",
    "\n",
    "# Function to generate hierarchical fixed-width file\n",
    "def generate_hierarchical_fixed_width_file(patient_csv, provider_csv):\n",
    "    # Read the CSV files\n",
    "    patient_data = read_csv(patient_csv)\n",
    "    provider_data = read_csv(provider_csv)\n",
    "    \n",
    "    # Determine field widths\n",
    "    patient_field_widths = determine_field_widths(patient_data)\n",
    "    provider_field_widths = determine_field_widths(provider_data)\n",
    "    \n",
    "    # Create fixed-width records\n",
    "    patient_fixed_width_records = create_fixed_width_records(patient_data, patient_field_widths)\n",
    "    provider_fixed_width_records = create_fixed_width_records(provider_data, provider_field_widths)\n",
    "    \n",
    "    # Pair and concatenate records\n",
    "    hierarchical_records = []\n",
    "    for patient_record, provider_record in zip(patient_fixed_width_records, provider_fixed_width_records):\n",
    "        hierarchical_record = patient_record + provider_record\n",
    "        hierarchical_records.append(hierarchical_record)\n",
    "    \n",
    "\n",
    "    # Save to file with custom headers\n",
    "        \n",
    "    hierarchical_file = 'hierarchical_fixed_width_file.txt'\n",
    "    with open(hierarchical_file, 'w') as file:\n",
    "        file.write('\\n'.join(hierarchical_records))\n",
    "    \n",
    "    return hierarchical_file\n",
    "\n",
    "# print the hierarchical fixed-width file column header\n",
    "patient_file = 'patient_records.csv'\n",
    "provider_file = 'provider_records.csv'\n",
    "hierarchical_file = generate_hierarchical_fixed_width_file(patient_file, provider_file)\n",
    "with open(hierarchical_file, 'r') as file:\n",
    "    print(file.readline().strip())\n",
    "    print('File created successfully!')\n"
   ]
  },
  {
   "cell_type": "code",
   "execution_count": 42,
   "metadata": {},
   "outputs": [
    {
     "name": "stdout",
     "output_type": "stream",
     "text": [
      "Kyle Lopez        7557 Moreno Extensions, Sarahview, IN 61285               001-612-876-3921x5691 M06/27/1943Rodriguez Ltd                 8812-ASSN 238-11-0766Dr. Robin Chapman     17193 Tonya Inlet Apt. 192, East Danielland, MH 36448      6564768782904616105203BF0100Y\n",
      "File created successfully!\n"
     ]
    }
   ],
   "source": [
    "# print the hierarchical fixed-width file column header\n",
    "patient_file = 'patient_records.csv'\n",
    "provider_file = 'provider_records.csv'\n",
    "hierarchical_file = generate_hierarchical_fixed_width_file(patient_file, provider_file)\n",
    "with open(hierarchical_file, 'r') as file:\n",
    "    print(file.readline().strip())\n",
    "    print('File created successfully!')\n",
    "    "
   ]
  },
  {
   "cell_type": "code",
   "execution_count": 27,
   "metadata": {},
   "outputs": [
    {
     "name": "stdout",
     "output_type": "stream",
     "text": [
      "['Patient Name', 'Address', 'Telephone Number', 'Sex', 'Date of Birth', 'Employer', 'Group Number', 'Payer ID Number']\n",
      "['Billing Provider', 'Address', 'NPI', 'TIN', 'Taxonomy Code']\n"
     ]
    }
   ],
   "source": [
    "# Generate dummy data and save to CSV files\n",
    "num_records = 100\n",
    "patient_file = 'patient_records.csv'\n",
    "provider_file = 'provider_records.csv'\n",
    "\n",
    "patient_data = generate_dummy_data(num_records, 'patient')\n",
    "provider_data = generate_dummy_data(num_records, 'provider')\n",
    "\n",
    "patient_headers = ['Patient Name', 'Address', 'Telephone Number', 'Sex', 'Date of Birth', 'Employer', 'Group Number', 'Payer ID Number']\n",
    "provider_headers = ['Billing Provider', 'Address', 'NPI', 'TIN', 'Taxonomy Code']\n",
    "\n",
    "save_to_csv_with_custom_headers(patient_file, patient_data, patient_headers)\n",
    "save_to_csv_with_custom_headers(provider_file, provider_data, provider_headers)\n",
    "\n",
    "# print fix width headers\n",
    "print(patient_headers)\n",
    "print(provider_headers)\n",
    "\n"
   ]
  },
  {
   "cell_type": "code",
   "execution_count": 43,
   "metadata": {},
   "outputs": [],
   "source": [
    "# Generate the hierarchical fixed-width file\n",
    "hierarchical_fixed_width_file = generate_hierarchical_fixed_width_file(patient_file, provider_file)"
   ]
  },
  {
   "cell_type": "code",
   "execution_count": null,
   "metadata": {},
   "outputs": [],
   "source": []
  }
 ],
 "metadata": {
  "kernelspec": {
   "display_name": "Python 3",
   "language": "python",
   "name": "python3"
  },
  "language_info": {
   "codemirror_mode": {
    "name": "ipython",
    "version": 3
   },
   "file_extension": ".py",
   "mimetype": "text/x-python",
   "name": "python",
   "nbconvert_exporter": "python",
   "pygments_lexer": "ipython3",
   "version": "3.12.0"
  }
 },
 "nbformat": 4,
 "nbformat_minor": 2
}
